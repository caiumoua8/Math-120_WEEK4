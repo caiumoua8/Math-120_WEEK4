{
  "cells": [
    {
      "cell_type": "markdown",
      "metadata": {
        "id": "view-in-github",
        "colab_type": "text"
      },
      "source": [
        "<a href=\"https://colab.research.google.com/github/caiumoua8/Math-120_WEEK4/blob/main/Copy_of_MATH_120_Week04_Functions_Continued.ipynb\" target=\"_parent\"><img src=\"https://colab.research.google.com/assets/colab-badge.svg\" alt=\"Open In Colab\"/></a>"
      ]
    },
    {
      "cell_type": "markdown",
      "id": "6ad9c40c",
      "metadata": {
        "id": "6ad9c40c"
      },
      "source": [
        "# Week 4: Functions (Continued)\n"
      ]
    },
    {
      "cell_type": "markdown",
      "id": "d1234bfa",
      "metadata": {
        "id": "d1234bfa"
      },
      "source": [
        "## Learning Objectives\n",
        "- Applying operations and methods on strings\n",
        "- Defining and practicing writing functions"
      ]
    },
    {
      "cell_type": "markdown",
      "source": [
        "## Strings (Review + New)"
      ],
      "metadata": {
        "id": "PONab3PBaSIW"
      },
      "id": "PONab3PBaSIW"
    },
    {
      "cell_type": "code",
      "source": [
        "# string examples\n",
        "name = 'Mario'\n",
        "numbers = '123'"
      ],
      "metadata": {
        "id": "SY-Kz08TaXRA"
      },
      "id": "SY-Kz08TaXRA",
      "execution_count": null,
      "outputs": []
    },
    {
      "cell_type": "code",
      "source": [
        "# printing strings\n",
        "print(name)\n",
        "print(\"this is a string\")"
      ],
      "metadata": {
        "colab": {
          "base_uri": "https://localhost:8080/"
        },
        "id": "Jo9Hn12zacYE",
        "outputId": "852c6335-2b43-4f1f-e9d8-c11adee81f3c"
      },
      "id": "Jo9Hn12zacYE",
      "execution_count": null,
      "outputs": [
        {
          "output_type": "stream",
          "name": "stdout",
          "text": [
            "Mario\n",
            "this is a string\n"
          ]
        }
      ]
    },
    {
      "cell_type": "code",
      "source": [
        "# string length\n",
        "len(name)"
      ],
      "metadata": {
        "colab": {
          "base_uri": "https://localhost:8080/"
        },
        "id": "wlPqZ5rVadeH",
        "outputId": "627bb5a3-b68e-4b08-ed8e-ccc15ac19162"
      },
      "id": "wlPqZ5rVadeH",
      "execution_count": null,
      "outputs": [
        {
          "output_type": "execute_result",
          "data": {
            "text/plain": [
              "5"
            ]
          },
          "metadata": {},
          "execution_count": 4
        }
      ]
    },
    {
      "cell_type": "code",
      "source": [
        "# indexing and slicing strings\n",
        "name[0] # the first character\n",
        "name[-1] # the last character\n",
        "name[0:3] # characters 0, 1, and 2\n",
        "name[2:] # index 1 to the end"
      ],
      "metadata": {
        "colab": {
          "base_uri": "https://localhost:8080/",
          "height": 35
        },
        "id": "nN5GALW4adbQ",
        "outputId": "00c8105e-af66-447e-a3e7-b23e7efcb115"
      },
      "id": "nN5GALW4adbQ",
      "execution_count": null,
      "outputs": [
        {
          "output_type": "execute_result",
          "data": {
            "text/plain": [
              "'rio'"
            ],
            "application/vnd.google.colaboratory.intrinsic+json": {
              "type": "string"
            }
          },
          "metadata": {},
          "execution_count": 7
        }
      ]
    },
    {
      "cell_type": "code",
      "source": [
        "# string operations and methods\n",
        "# we can add 2 strings together\n",
        "'just' + ' in case'\n",
        "# we can multiply a string by a constant\n",
        "print('just' * 3)"
      ],
      "metadata": {
        "colab": {
          "base_uri": "https://localhost:8080/"
        },
        "id": "HxDrHQ-TadWT",
        "outputId": "92ba3f55-bfe7-49d0-8bd4-11e9904bf4c2"
      },
      "id": "HxDrHQ-TadWT",
      "execution_count": null,
      "outputs": [
        {
          "output_type": "stream",
          "name": "stdout",
          "text": [
            "justjustjust\n"
          ]
        }
      ]
    },
    {
      "cell_type": "code",
      "source": [
        "# methods\n",
        "name.lower()\n",
        "name.upper()\n",
        "name.lower().replace('m','T')"
      ],
      "metadata": {
        "colab": {
          "base_uri": "https://localhost:8080/",
          "height": 35
        },
        "id": "7moVYmbdT5QC",
        "outputId": "13a27606-4557-4e65-d0b4-ac21ded00a8a"
      },
      "id": "7moVYmbdT5QC",
      "execution_count": null,
      "outputs": [
        {
          "output_type": "execute_result",
          "data": {
            "text/plain": [
              "'Tario'"
            ],
            "application/vnd.google.colaboratory.intrinsic+json": {
              "type": "string"
            }
          },
          "metadata": {},
          "execution_count": 10
        }
      ]
    },
    {
      "cell_type": "code",
      "source": [
        "sentence = 'Problem solving is difficult.'\n",
        "words = sentence.split()\n",
        "print(words)\n",
        "words[1].upper()\n",
        "words[3] = words[3].upper()\n",
        "print(words)\n"
      ],
      "metadata": {
        "colab": {
          "base_uri": "https://localhost:8080/"
        },
        "id": "G0cYbreQVGhD",
        "outputId": "b0fb7215-0ebc-4154-f9ee-6fcbea87af4b"
      },
      "id": "G0cYbreQVGhD",
      "execution_count": null,
      "outputs": [
        {
          "output_type": "stream",
          "name": "stdout",
          "text": [
            "['Problem', 'solving', 'is', 'difficult.']\n",
            "['Problem', 'solving', 'is', 'DIFFICULT.']\n"
          ]
        }
      ]
    },
    {
      "cell_type": "code",
      "source": [
        "joined = '_'.join(words)\n",
        "print(joined)\n",
        "joined = ' '.join(words)\n",
        "print(joined)\n",
        "joined = '+'.join(words)\n",
        "print(joined)\n",
        "joined = ' ;_; '.join(words)\n",
        "print(joined)\n"
      ],
      "metadata": {
        "colab": {
          "base_uri": "https://localhost:8080/"
        },
        "id": "MnnpQ05wV5j5",
        "outputId": "27114234-cfec-49bd-f79d-e1e626a15404"
      },
      "id": "MnnpQ05wV5j5",
      "execution_count": null,
      "outputs": [
        {
          "output_type": "stream",
          "name": "stdout",
          "text": [
            "Problem_solving_is_DIFFICULT.\n",
            "Problem solving is DIFFICULT.\n",
            "Problem+solving+is+DIFFICULT.\n",
            "Problem ;_; solving ;_; is ;_; DIFFICULT.\n"
          ]
        }
      ]
    },
    {
      "cell_type": "code",
      "source": [
        "sentence.swapcase()"
      ],
      "metadata": {
        "colab": {
          "base_uri": "https://localhost:8080/",
          "height": 35
        },
        "id": "IzKhr1aKWREY",
        "outputId": "4cf1d626-11e3-4634-8008-6dbda367bc6b"
      },
      "id": "IzKhr1aKWREY",
      "execution_count": null,
      "outputs": [
        {
          "output_type": "execute_result",
          "data": {
            "text/plain": [
              "'pROBLEM SOLVING IS DIFFICULT.'"
            ],
            "application/vnd.google.colaboratory.intrinsic+json": {
              "type": "string"
            }
          },
          "metadata": {},
          "execution_count": 29
        }
      ]
    },
    {
      "cell_type": "code",
      "source": [
        "quote = 'I think therefore I am.'\n",
        "print('think' in quote)"
      ],
      "metadata": {
        "colab": {
          "base_uri": "https://localhost:8080/"
        },
        "id": "F8itk98lWdv4",
        "outputId": "83fb4210-b2fb-49b6-b827-5eb0cb1da287"
      },
      "id": "F8itk98lWdv4",
      "execution_count": null,
      "outputs": [
        {
          "output_type": "stream",
          "name": "stdout",
          "text": [
            "True\n"
          ]
        }
      ]
    },
    {
      "cell_type": "code",
      "source": [
        "# substrings"
      ],
      "metadata": {
        "id": "gYnqIYWbadIy"
      },
      "id": "gYnqIYWbadIy",
      "execution_count": null,
      "outputs": []
    },
    {
      "cell_type": "code",
      "source": [
        "'I' in quote"
      ],
      "metadata": {
        "colab": {
          "base_uri": "https://localhost:8080/"
        },
        "id": "tO0OcFbpW1Yo",
        "outputId": "24a4134d-e21a-40c1-e9f4-b0c106499305"
      },
      "id": "tO0OcFbpW1Yo",
      "execution_count": null,
      "outputs": [
        {
          "output_type": "execute_result",
          "data": {
            "text/plain": [
              "True"
            ]
          },
          "metadata": {},
          "execution_count": 33
        }
      ]
    },
    {
      "cell_type": "markdown",
      "id": "6be52fcf",
      "metadata": {
        "id": "6be52fcf"
      },
      "source": [
        "## Independent Practice"
      ]
    },
    {
      "cell_type": "markdown",
      "source": [
        "## Problem 0: Strings!\n",
        "\n",
        "Complete at least 2 of the following before moving on to the next problem:\n",
        "\n",
        "- Create a string variable with your full name. Print the first letter and the last letter.\n",
        "- Count how many characters (including spaces) are in the string \"I love Python\".\n",
        "- Write a program that takes the string \"banana\" and prints it backwards (\"ananab\").\n",
        "- Given the string \"apples,oranges,grapes\", split it into a list of fruits.\n",
        "- Replace all spaces in \"data science is cool\" with underscores (\"data_science_is_cool\")."
      ],
      "metadata": {
        "id": "yZUWcL_iauRs"
      },
      "id": "yZUWcL_iauRs"
    },
    {
      "cell_type": "code",
      "source": [
        "# your solution here\n",
        "myname = 'Caiu Moua'\n",
        "print(myname[0])\n",
        "print(myname[-1])"
      ],
      "metadata": {
        "id": "uapt445Ca4i-",
        "colab": {
          "base_uri": "https://localhost:8080/"
        },
        "outputId": "21775b16-267f-453e-92f0-2a9e784e3b8e"
      },
      "id": "uapt445Ca4i-",
      "execution_count": null,
      "outputs": [
        {
          "output_type": "stream",
          "name": "stdout",
          "text": [
            "C\n",
            "a\n"
          ]
        }
      ]
    },
    {
      "cell_type": "code",
      "source": [
        "pha1 = 'I love Python'\n",
        "len(pha1)"
      ],
      "metadata": {
        "colab": {
          "base_uri": "https://localhost:8080/"
        },
        "id": "LrjSwknvWt0n",
        "outputId": "36f85568-3c88-4d75-8f2a-d2b54700279b"
      },
      "id": "LrjSwknvWt0n",
      "execution_count": null,
      "outputs": [
        {
          "output_type": "execute_result",
          "data": {
            "text/plain": [
              "13"
            ]
          },
          "metadata": {},
          "execution_count": 18
        }
      ]
    },
    {
      "cell_type": "code",
      "source": [
        "fruit = 'banna'\n",
        "yes = fruit[::-1]\n",
        "print(yes)"
      ],
      "metadata": {
        "colab": {
          "base_uri": "https://localhost:8080/"
        },
        "id": "vLHbdXB-W0qp",
        "outputId": "f724d100-f9e3-4a2b-85bb-70520423763b"
      },
      "id": "vLHbdXB-W0qp",
      "execution_count": null,
      "outputs": [
        {
          "output_type": "stream",
          "name": "stdout",
          "text": [
            "annab\n"
          ]
        }
      ]
    },
    {
      "cell_type": "code",
      "source": [
        "fruits2 = 'apples,oranges,grapes'\n",
        "fruits2.split(',')"
      ],
      "metadata": {
        "colab": {
          "base_uri": "https://localhost:8080/"
        },
        "id": "Z98hQe3TXFXc",
        "outputId": "51f659cc-0fc7-477e-9100-b474bd736837"
      },
      "id": "Z98hQe3TXFXc",
      "execution_count": null,
      "outputs": [
        {
          "output_type": "execute_result",
          "data": {
            "text/plain": [
              "['apples', 'oranges', 'grapes']"
            ]
          },
          "metadata": {},
          "execution_count": 26
        }
      ]
    },
    {
      "cell_type": "code",
      "source": [
        "pha2 ='data science is cool'\n",
        "pha2.replace(' ','_')\n"
      ],
      "metadata": {
        "colab": {
          "base_uri": "https://localhost:8080/",
          "height": 35
        },
        "id": "q-EkDFGLXTFm",
        "outputId": "d3846ffd-373a-442a-95c5-5b04c4036126"
      },
      "id": "q-EkDFGLXTFm",
      "execution_count": null,
      "outputs": [
        {
          "output_type": "execute_result",
          "data": {
            "text/plain": [
              "'data_science_is_cool'"
            ],
            "application/vnd.google.colaboratory.intrinsic+json": {
              "type": "string"
            }
          },
          "metadata": {},
          "execution_count": 34
        }
      ]
    },
    {
      "cell_type": "markdown",
      "id": "4a39996f",
      "metadata": {
        "id": "4a39996f"
      },
      "source": [
        "### Problem 1: Temperature conversion\n",
        "\n",
        "Write functions `c_to_f(c)` and `f_to_c(f)` that convert between Celsius and Fahrenheit.\n",
        "Test your functions with at least 3 different inputs."
      ]
    },
    {
      "cell_type": "code",
      "execution_count": 41,
      "id": "2dd42724",
      "metadata": {
        "id": "2dd42724"
      },
      "outputs": [],
      "source": [
        "# your solution here\n",
        "def  c_to_f(c):\n",
        "  return (9/5) * c + 32\n",
        "  if type(c) == str:\n",
        "     raise TypeError(\"Please enter a number\")\n",
        "def f_to_c(f):\n",
        "  return (5/9) * (f - 32)"
      ]
    },
    {
      "cell_type": "code",
      "source": [
        "c_to_f(400)\n",
        "c_to_f(40000)\n"
      ],
      "metadata": {
        "colab": {
          "base_uri": "https://localhost:8080/"
        },
        "id": "KXOtaJdPYhEc",
        "outputId": "d33a3e68-2280-4669-8edd-00167f1fcb2c"
      },
      "id": "KXOtaJdPYhEc",
      "execution_count": 42,
      "outputs": [
        {
          "output_type": "execute_result",
          "data": {
            "text/plain": [
              "72032.0"
            ]
          },
          "metadata": {},
          "execution_count": 42
        }
      ]
    },
    {
      "cell_type": "code",
      "source": [
        "f_to_c(400)\n",
        "f_to_c(40000)"
      ],
      "metadata": {
        "colab": {
          "base_uri": "https://localhost:8080/"
        },
        "id": "maiRxkH6YuK2",
        "outputId": "1b413a8b-8729-490e-8557-42a54f17161d"
      },
      "id": "maiRxkH6YuK2",
      "execution_count": 43,
      "outputs": [
        {
          "output_type": "execute_result",
          "data": {
            "text/plain": [
              "22204.444444444445"
            ]
          },
          "metadata": {},
          "execution_count": 43
        }
      ]
    },
    {
      "cell_type": "markdown",
      "id": "6c555ce9",
      "metadata": {
        "id": "6c555ce9"
      },
      "source": [
        "**Self-check:**\n",
        "- Did you test edge cases?\n",
        "- Clear docstring?"
      ]
    },
    {
      "cell_type": "markdown",
      "id": "f1d016ce",
      "metadata": {
        "id": "f1d016ce"
      },
      "source": [
        "### Problem 2: Quadratic roots\n",
        "\n",
        "Write a function `quadratic_roots(a, b, c)` that returns the real roots of a quadratic equation.\n",
        "Handle the case when roots are complex by returning None."
      ]
    },
    {
      "cell_type": "code",
      "execution_count": null,
      "id": "2ad87c26",
      "metadata": {
        "id": "2ad87c26"
      },
      "outputs": [],
      "source": [
        "# your solution\n",
        "import numpy as np\n",
        "def quadratic_roots(a, b, c):\n",
        "  roots = np.roots([a, b, c])  # this function returns floats, so in floating point math, theres no guaranteed 0's\n",
        "  if np.allclose(roots.imag, 0):   # np.allclose checks if the imaginary side of the numbers are close enough to 0\n",
        "        return roots.real           # if yes, return only real numbers\n",
        "  else:                               # if no, return none\n",
        "        return 'None'"
      ]
    },
    {
      "cell_type": "code",
      "source": [
        "quadratic_roots(1,1,1)"
      ],
      "metadata": {
        "colab": {
          "base_uri": "https://localhost:8080/",
          "height": 35
        },
        "id": "Cbn5Y8yKbrrd",
        "outputId": "f1adadd5-3018-4412-ab0b-cd5a6b246c97"
      },
      "id": "Cbn5Y8yKbrrd",
      "execution_count": null,
      "outputs": [
        {
          "output_type": "execute_result",
          "data": {
            "text/plain": [
              "'None'"
            ],
            "application/vnd.google.colaboratory.intrinsic+json": {
              "type": "string"
            }
          },
          "metadata": {},
          "execution_count": 75
        }
      ]
    },
    {
      "cell_type": "code",
      "source": [
        "quadratic_roots(3,2,1)"
      ],
      "metadata": {
        "colab": {
          "base_uri": "https://localhost:8080/",
          "height": 35
        },
        "id": "KbKF3nzScAMf",
        "outputId": "755f58ad-f2eb-4092-b65d-a7fa7959d627"
      },
      "id": "KbKF3nzScAMf",
      "execution_count": null,
      "outputs": [
        {
          "output_type": "execute_result",
          "data": {
            "text/plain": [
              "'None'"
            ],
            "application/vnd.google.colaboratory.intrinsic+json": {
              "type": "string"
            }
          },
          "metadata": {},
          "execution_count": 74
        }
      ]
    },
    {
      "cell_type": "code",
      "source": [
        "quadratic_roots(1,-3,2)"
      ],
      "metadata": {
        "colab": {
          "base_uri": "https://localhost:8080/"
        },
        "id": "uJHMoVefcMpZ",
        "outputId": "296ed558-dc7a-4ab8-c929-eac53dc1aac9"
      },
      "id": "uJHMoVefcMpZ",
      "execution_count": null,
      "outputs": [
        {
          "output_type": "execute_result",
          "data": {
            "text/plain": [
              "array([2., 1.])"
            ]
          },
          "metadata": {},
          "execution_count": 77
        }
      ]
    },
    {
      "cell_type": "markdown",
      "id": "98ab2cf7",
      "metadata": {
        "id": "98ab2cf7"
      },
      "source": [
        "**Self-check:**\n",
        "- Did you test edge cases?\n",
        "- Clear docstring?"
      ]
    },
    {
      "cell_type": "markdown",
      "id": "44eb1141",
      "metadata": {
        "id": "44eb1141"
      },
      "source": [
        "### Problem 3: Prime Pattern Generator\n",
        "\n",
        "Write a function `prime_pattern(n)` that returns a list, where the list contains all prime numbers less than or equal to $n$.\n",
        "\n",
        "```python\n",
        "prime_pattern(5)\n",
        "# [2, 3, 5]\n",
        "```\n",
        "\n",
        "Hint: write a helper function `is_prime(num)` first."
      ]
    },
    {
      "cell_type": "code",
      "execution_count": null,
      "id": "bdf710e9",
      "metadata": {
        "id": "bdf710e9"
      },
      "outputs": [],
      "source": [
        "# your solution here\n",
        "def is_prime(num):\n",
        "  if num <= 1:\n",
        "    return False\n",
        "  for i in range(2, num):\n",
        "    if num % i == 0:\n",
        "      return False\n",
        "  return True"
      ]
    },
    {
      "cell_type": "code",
      "source": [
        "is_prime(7)"
      ],
      "metadata": {
        "colab": {
          "base_uri": "https://localhost:8080/"
        },
        "id": "7_SKt-mxdFdA",
        "outputId": "5d7be9d1-2bc3-4dbd-ef05-ca2620c2a4cb"
      },
      "id": "7_SKt-mxdFdA",
      "execution_count": null,
      "outputs": [
        {
          "output_type": "execute_result",
          "data": {
            "text/plain": [
              "True"
            ]
          },
          "metadata": {},
          "execution_count": 82
        }
      ]
    },
    {
      "cell_type": "code",
      "source": [
        "def prime_pattern(n):\n",
        "  prime_list = []\n",
        "  for i in range(2, n + 1):\n",
        "    if is_prime(i):\n",
        "      prime_list.append(i)\n",
        "  return prime_list"
      ],
      "metadata": {
        "id": "jBIA9vHick3g"
      },
      "id": "jBIA9vHick3g",
      "execution_count": null,
      "outputs": []
    },
    {
      "cell_type": "code",
      "source": [
        "prime_pattern(5)"
      ],
      "metadata": {
        "colab": {
          "base_uri": "https://localhost:8080/"
        },
        "id": "djT02n8Od1GX",
        "outputId": "14f3539e-1e2d-4a2b-a006-fb322cc5fd55"
      },
      "id": "djT02n8Od1GX",
      "execution_count": null,
      "outputs": [
        {
          "output_type": "execute_result",
          "data": {
            "text/plain": [
              "[2, 3, 5]"
            ]
          },
          "metadata": {},
          "execution_count": 83
        }
      ]
    },
    {
      "cell_type": "code",
      "source": [
        "is_prime(1)"
      ],
      "metadata": {
        "colab": {
          "base_uri": "https://localhost:8080/"
        },
        "id": "ejKWGbu2ps8u",
        "outputId": "1cc8e8bb-eced-463a-cc97-222bbd1538f5"
      },
      "id": "ejKWGbu2ps8u",
      "execution_count": null,
      "outputs": [
        {
          "output_type": "execute_result",
          "data": {
            "text/plain": [
              "False"
            ]
          },
          "metadata": {},
          "execution_count": 113
        }
      ]
    },
    {
      "cell_type": "markdown",
      "id": "2e48cb63",
      "metadata": {
        "id": "2e48cb63"
      },
      "source": [
        "**Self-check:**\n",
        "- Did you test edge cases?\n",
        "- Clear docstring?"
      ]
    },
    {
      "cell_type": "markdown",
      "source": [
        "### Problem 4: Writing E-mails\n",
        "\n",
        "Challenge: Write a function `extract_subject(email_text)` that finds the subject line.\n",
        "\n",
        "```python\n",
        "'Subject: Meeting Reminder \\n Hi all, just a reminder that we have class tomorrow at 10am.\\n Thanks, Professor B.'\n",
        "```"
      ],
      "metadata": {
        "id": "QBOCLiqYYs37"
      },
      "id": "QBOCLiqYYs37"
    },
    {
      "cell_type": "code",
      "source": [
        "print('Subject: Meeting Reminder \\n Hi all, just a reminder that we have class tomorrow at 10am.\\n Thanks, Professor B.')"
      ],
      "metadata": {
        "id": "n_KtjscaZHt3",
        "colab": {
          "base_uri": "https://localhost:8080/"
        },
        "outputId": "422fdaad-6631-4e31-d761-6462ccf8cb77"
      },
      "id": "n_KtjscaZHt3",
      "execution_count": null,
      "outputs": [
        {
          "output_type": "stream",
          "name": "stdout",
          "text": [
            "Subject: Meeting Reminder \n",
            " Hi all, just a reminder that we have class tomorrow at 10am.\n",
            " Thanks, Professor B.\n"
          ]
        }
      ]
    },
    {
      "cell_type": "code",
      "source": [
        "def extract_subject(email_text):\n",
        "\n",
        "  lines = email_text.splitlines()\n",
        "  for temp in lines:\n",
        "    if 'Subject' in temp:\n",
        "      print(temp)\n",
        "\n",
        "\n",
        "\n"
      ],
      "metadata": {
        "id": "qAIqLpopcn45"
      },
      "id": "qAIqLpopcn45",
      "execution_count": 34,
      "outputs": []
    },
    {
      "cell_type": "code",
      "source": [
        "email_text1 = \"\"\"Subject: Meeting Reminder\n",
        "Hi all, just a reminder that we have class tomorrow at 10am.\n",
        " Thanks, Professor B.\"\"\""
      ],
      "metadata": {
        "id": "i02HFDZLeh6N"
      },
      "id": "i02HFDZLeh6N",
      "execution_count": 38,
      "outputs": []
    },
    {
      "cell_type": "code",
      "source": [
        "extract_subject(email_text1)"
      ],
      "metadata": {
        "id": "a6_0fd-revWg",
        "outputId": "8bf54c00-2635-4926-b0d9-0bae32a53cf4",
        "colab": {
          "base_uri": "https://localhost:8080/"
        }
      },
      "id": "a6_0fd-revWg",
      "execution_count": 39,
      "outputs": [
        {
          "output_type": "stream",
          "name": "stdout",
          "text": [
            "Subject: Meeting Reminder\n"
          ]
        }
      ]
    },
    {
      "cell_type": "code",
      "source": [
        "# % pip install [name of package]"
      ],
      "metadata": {
        "id": "yNUmFSpml42v"
      },
      "id": "yNUmFSpml42v",
      "execution_count": null,
      "outputs": []
    },
    {
      "cell_type": "markdown",
      "source": [
        "## Conditional Statements & Iterations\n"
      ],
      "metadata": {
        "id": "nWbb8o3JrLjs"
      },
      "id": "nWbb8o3JrLjs"
    },
    {
      "cell_type": "code",
      "source": [
        "# Boolean experssion\n",
        "float(5) == int(5)  # test check for equality"
      ],
      "metadata": {
        "colab": {
          "base_uri": "https://localhost:8080/"
        },
        "id": "ibYT0JC2rRFj",
        "outputId": "1f50e4b7-0856-4c66-847d-97bf413c1182"
      },
      "id": "ibYT0JC2rRFj",
      "execution_count": null,
      "outputs": [
        {
          "output_type": "execute_result",
          "data": {
            "text/plain": [
              "True"
            ]
          },
          "metadata": {},
          "execution_count": 141
        }
      ]
    },
    {
      "cell_type": "code",
      "source": [
        "5 == 7"
      ],
      "metadata": {
        "colab": {
          "base_uri": "https://localhost:8080/"
        },
        "id": "w_kispHcrbq5",
        "outputId": "9d0b6533-2c67-4d3e-8048-93ffd5a80bc7"
      },
      "id": "w_kispHcrbq5",
      "execution_count": null,
      "outputs": [
        {
          "output_type": "execute_result",
          "data": {
            "text/plain": [
              "False"
            ]
          },
          "metadata": {},
          "execution_count": 153
        }
      ]
    },
    {
      "cell_type": "code",
      "source": [
        "# inequalties\n",
        "5<=7\n",
        "1>=2"
      ],
      "metadata": {
        "colab": {
          "base_uri": "https://localhost:8080/"
        },
        "id": "T0v6FFPIrg2p",
        "outputId": "a8257bad-4f46-4862-d46a-59508edbe0c2"
      },
      "id": "T0v6FFPIrg2p",
      "execution_count": null,
      "outputs": [
        {
          "output_type": "execute_result",
          "data": {
            "text/plain": [
              "False"
            ]
          },
          "metadata": {},
          "execution_count": 154
        }
      ]
    },
    {
      "cell_type": "code",
      "source": [
        "# not equal\n",
        "5 != 8"
      ],
      "metadata": {
        "colab": {
          "base_uri": "https://localhost:8080/"
        },
        "id": "ZBFQnUEprsfo",
        "outputId": "5bf26284-3801-42e4-8953-c0bd1b0b29cc"
      },
      "id": "ZBFQnUEprsfo",
      "execution_count": null,
      "outputs": [
        {
          "output_type": "execute_result",
          "data": {
            "text/plain": [
              "True"
            ]
          },
          "metadata": {},
          "execution_count": 155
        }
      ]
    },
    {
      "cell_type": "code",
      "source": [
        "# compare types\n",
        "type(5) == type(5.0)"
      ],
      "metadata": {
        "colab": {
          "base_uri": "https://localhost:8080/"
        },
        "id": "vvKzlmqtr7S2",
        "outputId": "6e03977d-370e-47c2-c6cd-0bf21db2f16d"
      },
      "id": "vvKzlmqtr7S2",
      "execution_count": null,
      "outputs": [
        {
          "output_type": "execute_result",
          "data": {
            "text/plain": [
              "False"
            ]
          },
          "metadata": {},
          "execution_count": 156
        }
      ]
    },
    {
      "cell_type": "code",
      "source": [
        "# logical operators\n",
        "# the owrds and, or, not\n",
        "x = 0\n",
        "x > 0 and x < 10 and x == 1\n",
        "x > 0 or x == 3\n",
        "# stirings logical operatators and functions NEXT PYTHON CHECK IN"
      ],
      "metadata": {
        "colab": {
          "base_uri": "https://localhost:8080/"
        },
        "id": "FWOkNtossFEF",
        "outputId": "db3b6918-5ce6-4747-caf4-0fdc76b00d03"
      },
      "id": "FWOkNtossFEF",
      "execution_count": null,
      "outputs": [
        {
          "output_type": "execute_result",
          "data": {
            "text/plain": [
              "False"
            ]
          },
          "metadata": {},
          "execution_count": 187
        }
      ]
    },
    {
      "cell_type": "code",
      "source": [
        "# if statements\n",
        "if x > 0:\n",
        "  print ('x is positive')"
      ],
      "metadata": {
        "colab": {
          "base_uri": "https://localhost:8080/"
        },
        "id": "DGU-TdFosxH1",
        "outputId": "ec4fd889-0604-4431-b9c9-e9a5538eaea4"
      },
      "id": "DGU-TdFosxH1",
      "execution_count": null,
      "outputs": [
        {
          "output_type": "stream",
          "name": "stdout",
          "text": [
            "x is positive\n"
          ]
        }
      ]
    },
    {
      "cell_type": "code",
      "source": [
        "if x % 2 == 0:\n",
        "  print('x is even')\n",
        "else:\n",
        "    print('x is odd')"
      ],
      "metadata": {
        "colab": {
          "base_uri": "https://localhost:8080/"
        },
        "id": "9P1RlyjPs6CG",
        "outputId": "a23ca7b5-d7ef-4752-b99f-efd461ef7f92"
      },
      "id": "9P1RlyjPs6CG",
      "execution_count": null,
      "outputs": [
        {
          "output_type": "stream",
          "name": "stdout",
          "text": [
            "x is odd\n"
          ]
        }
      ]
    },
    {
      "cell_type": "code",
      "source": [
        "# chained conditionals\n",
        "x = 10\n",
        "if x < 10:\n",
        "  print('x is less than 10')\n",
        "elif x > 10:\n",
        "  print('x is greater than 0')\n",
        "else:\n",
        "    print('x is 10')"
      ],
      "metadata": {
        "colab": {
          "base_uri": "https://localhost:8080/"
        },
        "id": "OrR7YcqLtNoF",
        "outputId": "f89c7c45-9bc0-4b51-bb1a-ea8dbe638956"
      },
      "id": "OrR7YcqLtNoF",
      "execution_count": null,
      "outputs": [
        {
          "output_type": "stream",
          "name": "stdout",
          "text": [
            "x is 10\n"
          ]
        }
      ]
    },
    {
      "cell_type": "code",
      "source": [
        "# for iterations, we have multiple options\n",
        "for i in range(3):\n",
        "  print(i)"
      ],
      "metadata": {
        "colab": {
          "base_uri": "https://localhost:8080/"
        },
        "id": "2RCJl9Rzt46F",
        "outputId": "e871030c-e416-4df6-9f2a-757a9827a0f5"
      },
      "id": "2RCJl9Rzt46F",
      "execution_count": null,
      "outputs": [
        {
          "output_type": "stream",
          "name": "stdout",
          "text": [
            "0\n",
            "1\n",
            "2\n"
          ]
        }
      ]
    },
    {
      "cell_type": "code",
      "source": [
        "# strings\n",
        "for letter in 'lalelulilo':\n",
        "  print(letter)"
      ],
      "metadata": {
        "colab": {
          "base_uri": "https://localhost:8080/"
        },
        "id": "2rACFjfLuK7l",
        "outputId": "f8e743ba-48e2-414b-fb81-8b81a521f6b7"
      },
      "id": "2rACFjfLuK7l",
      "execution_count": null,
      "outputs": [
        {
          "output_type": "stream",
          "name": "stdout",
          "text": [
            "l\n",
            "a\n",
            "l\n",
            "e\n",
            "l\n",
            "u\n",
            "l\n",
            "i\n",
            "l\n",
            "o\n"
          ]
        }
      ]
    },
    {
      "cell_type": "code",
      "source": [
        "# strings\n",
        "for letter in 'lalelulilo':\n",
        "  if letter == 'e' or letter == 'E':\n",
        "    print('this word has an e')\n"
      ],
      "metadata": {
        "colab": {
          "base_uri": "https://localhost:8080/"
        },
        "id": "RKzYM7-NuaCV",
        "outputId": "c72efe24-f38f-4381-f650-163ee8bbaa91"
      },
      "id": "RKzYM7-NuaCV",
      "execution_count": null,
      "outputs": [
        {
          "output_type": "stream",
          "name": "stdout",
          "text": [
            "this word has an e\n"
          ]
        }
      ]
    },
    {
      "cell_type": "code",
      "source": [
        "def has_e(word):\n",
        "  for letter in word:\n",
        "    if letter == 'E' or letter == 'e':\n",
        "      return True\n",
        "\n",
        "  return False"
      ],
      "metadata": {
        "id": "Y989z-vKuz4F"
      },
      "id": "Y989z-vKuz4F",
      "execution_count": null,
      "outputs": []
    },
    {
      "cell_type": "code",
      "source": [
        "has_e('Marie')"
      ],
      "metadata": {
        "colab": {
          "base_uri": "https://localhost:8080/"
        },
        "id": "4B8wTfMnvQCD",
        "outputId": "51286fbd-169d-4029-ac99-22c7db20317b"
      },
      "id": "4B8wTfMnvQCD",
      "execution_count": null,
      "outputs": [
        {
          "output_type": "execute_result",
          "data": {
            "text/plain": [
              "True"
            ]
          },
          "metadata": {},
          "execution_count": 223
        }
      ]
    },
    {
      "cell_type": "code",
      "source": [
        "def has_e(word):\n",
        "  for letter in word: # letter doesnt have to be defined\n",
        "    if 'e' in word or 'E' in word: # in checks for inside whatever you are doing\n",
        "      return True\n",
        "\n",
        "  return False"
      ],
      "metadata": {
        "id": "bYkKA8VBvnee"
      },
      "id": "bYkKA8VBvnee",
      "execution_count": null,
      "outputs": []
    },
    {
      "cell_type": "code",
      "source": [
        "has_e ('Marie')"
      ],
      "metadata": {
        "colab": {
          "base_uri": "https://localhost:8080/"
        },
        "id": "1mD8SRLXvve9",
        "outputId": "f33fbb23-7006-4231-ee10-441d984995df"
      },
      "id": "1mD8SRLXvve9",
      "execution_count": null,
      "outputs": [
        {
          "output_type": "execute_result",
          "data": {
            "text/plain": [
              "True"
            ]
          },
          "metadata": {},
          "execution_count": 225
        }
      ]
    },
    {
      "cell_type": "code",
      "source": [
        "has_e ('margie')"
      ],
      "metadata": {
        "colab": {
          "base_uri": "https://localhost:8080/"
        },
        "id": "JeAL1QXFv_e8",
        "outputId": "9197d492-9bfe-42b8-a9f8-66e9c5b0af55"
      },
      "id": "JeAL1QXFv_e8",
      "execution_count": null,
      "outputs": [
        {
          "output_type": "execute_result",
          "data": {
            "text/plain": [
              "True"
            ]
          },
          "metadata": {},
          "execution_count": 226
        }
      ]
    },
    {
      "cell_type": "code",
      "source": [
        "has_e ('Jacob')"
      ],
      "metadata": {
        "colab": {
          "base_uri": "https://localhost:8080/"
        },
        "id": "rRFSlfkUwBAM",
        "outputId": "a95406d9-f707-44af-ec72-03310f9a3855"
      },
      "id": "rRFSlfkUwBAM",
      "execution_count": null,
      "outputs": [
        {
          "output_type": "execute_result",
          "data": {
            "text/plain": [
              "False"
            ]
          },
          "metadata": {},
          "execution_count": 227
        }
      ]
    },
    {
      "cell_type": "code",
      "source": [
        "email_text = 'Subject: Meeting Reminder \\n Hi all, just a reminder that we have class tomorrow at 10am. \\n Thanks, Professor B'"
      ],
      "metadata": {
        "id": "zoBk8R9XwOI-"
      },
      "id": "zoBk8R9XwOI-",
      "execution_count": null,
      "outputs": []
    },
    {
      "cell_type": "code",
      "source": [
        "lines = email_text.splitlines()\n",
        "print(lines)"
      ],
      "metadata": {
        "colab": {
          "base_uri": "https://localhost:8080/"
        },
        "id": "2IAhsGWFwwJM",
        "outputId": "899ccf40-0f2d-4a0a-cfd5-cd6bc2c7754f"
      },
      "id": "2IAhsGWFwwJM",
      "execution_count": 32,
      "outputs": [
        {
          "output_type": "stream",
          "name": "stdout",
          "text": [
            "['Subject: Meeting Reminder', 'Hi all, just a reminder that we have class tomorrow at 10am.', ' Thanks, Professor B.']\n"
          ]
        }
      ]
    },
    {
      "cell_type": "code",
      "source": [
        "for temp in lines:\n",
        "  if 'Subject' in temp:\n",
        "    print(temp)"
      ],
      "metadata": {
        "colab": {
          "base_uri": "https://localhost:8080/"
        },
        "id": "t8lki1ghx4Er",
        "outputId": "62ff4549-54d1-4705-8833-3bae5cfc41f1"
      },
      "id": "t8lki1ghx4Er",
      "execution_count": 33,
      "outputs": [
        {
          "output_type": "stream",
          "name": "stdout",
          "text": [
            "Subject: Meeting Reminder\n"
          ]
        }
      ]
    },
    {
      "cell_type": "markdown",
      "source": [
        "GITHUB: https://github.com/caiumoua8/Math-120_WEEK4.git"
      ],
      "metadata": {
        "id": "3QjAA7czUB93"
      },
      "id": "3QjAA7czUB93"
    }
  ],
  "metadata": {
    "colab": {
      "provenance": [],
      "include_colab_link": true
    },
    "language_info": {
      "name": "python"
    },
    "kernelspec": {
      "name": "python3",
      "display_name": "Python 3"
    }
  },
  "nbformat": 4,
  "nbformat_minor": 5
}